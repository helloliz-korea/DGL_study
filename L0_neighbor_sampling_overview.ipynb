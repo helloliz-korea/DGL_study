{
  "cells": [
    {
      "cell_type": "code",
      "execution_count": null,
      "metadata": {
        "collapsed": false
      },
      "outputs": [],
      "source": [
        "%matplotlib inline"
      ]
    },
    {
      "cell_type": "markdown",
      "metadata": {},
      "source": [
        "\n",
        "Introduction of Neighbor Sampling for GNN Training\n",
        "==================================================\n",
        "\n",
        "In :doc:`previous tutorials <../blitz/1_introduction>` you have learned how to\n",
        "train GNNs by computing the representations of all nodes on a graph.\n",
        "However, sometimes your graph is too large to fit the computation of all\n",
        "nodes in a single GPU.\n",
        "\n",
        "By the end of this tutorial, you will be able to\n",
        "\n",
        "-  Understand the pipeline of stochastic GNN training.\n",
        "-  Understand what is neighbor sampling and why it yields a bipartite\n",
        "   graph for each GNN layer.\n"
      ]
    },
    {
      "cell_type": "markdown",
      "metadata": {},
      "source": [
        "Message Passing Review\n",
        "----------------------\n",
        "\n",
        "Recall that in `Gilmer et al. <https://arxiv.org/abs/1704.01212>`__\n",
        "(also in :doc:`message passing tutorial <../blitz/3_message_passing>`), the\n",
        "message passing formulation is as follows:\n",
        "\n",
        "\\begin{align}m_{u\\to v}^{(l)} = M^{(l)}\\left(h_v^{(l-1)}, h_u^{(l-1)}, e_{u\\to v}^{(l-1)}\\right)\\end{align}\n",
        "\n",
        "\\begin{align}m_{v}^{(l)} = \\sum_{u\\in\\mathcal{N}(v)}m_{u\\to v}^{(l)}\\end{align}\n",
        "\n",
        "\\begin{align}h_v^{(l)} = U^{(l)}\\left(h_v^{(l-1)}, m_v^{(l)}\\right)\\end{align}\n",
        "\n",
        "where DGL calls $M^{(l)}$ the *message function*, $\\sum$ the\n",
        "*reduce function* and $U^{(l)}$ the *update function*. Note that\n",
        "$\\sum$ here can represent any function and is not necessarily a\n",
        "summation.\n",
        "\n",
        "Essentially, the $l$-th layer representation of a single node\n",
        "depends on the $(l-1)$-th layer representation of the same node,\n",
        "as well as the $(l-1)$-th layer representation of the neighboring\n",
        "nodes. Those $(l-1)$-th layer representations then depend on the\n",
        "$(l-2)$-th layer representation of those nodes, as well as their\n",
        "neighbors.\n",
        "\n",
        "The following animation shows how a 2-layer GNN is supposed to compute\n",
        "the output of node 5:\n",
        "\n",
        "|image1|\n",
        "\n",
        "You can see that to compute node 5 from the second layer, you will need\n",
        "its direct neighbors’ first layer representations (colored in yellow),\n",
        "which in turn needs their direct neighbors’ (i.e. node 5’s second-hop\n",
        "neighbors’) representations (colored in green).\n",
        "\n",
        ".. |image1| image:: https://data.dgl.ai/tutorial/img/sampling.gif\n",
        "\n",
        "\n"
      ]
    },
    {
      "cell_type": "markdown",
      "metadata": {},
      "source": [
        "Neighbor Sampling Overview\n",
        "--------------------------\n",
        "\n",
        "You can also see from the previous example that computing representation\n",
        "for a small number of nodes often requires input features of a\n",
        "significantly larger number of nodes. Taking all neighbors for message\n",
        "aggregation is often too costly since the nodes needed for input\n",
        "features would easily cover a large portion of the graph, especially for\n",
        "real-world graphs which are often\n",
        "`scale-free <https://en.wikipedia.org/wiki/Scale-free_network>`__.\n",
        "\n",
        "Neighbor sampling addresses this issue by selecting a subset of the\n",
        "neighbors to perform aggregation. For instance, to compute\n",
        "$\\boldsymbol{h}_5^{(2)}$, you can choose two of the neighbors\n",
        "instead of all of them to aggregate, as in the following animation:\n",
        "\n",
        "|image2|\n",
        "\n",
        "You can see that this method uses much fewer nodes needed in message\n",
        "passing for a single minibatch.\n",
        "\n",
        ".. |image2| image:: https://data.dgl.ai/tutorial/img/bipartite.gif\n",
        "\n",
        "\n"
      ]
    },
    {
      "cell_type": "markdown",
      "metadata": {},
      "source": [
        "You can also notice in the animation above that the computation\n",
        "dependencies in the animation above can be described as a series of\n",
        "bipartite graphs.\n",
        "The output nodes (called *destination nodes*) are on one side and all the\n",
        "nodes necessary for inputs (called *source nodes*) are on the other side.\n",
        "The arrows indicate how the sampled neighbors propagates messages to the nodes.\n",
        "DGL calls such graphs *message flow graphs* (MFG).\n",
        "\n",
        "Note that some GNN modules, such as `SAGEConv`, need to use the destination\n",
        "nodes' features on the previous layer to compute the outputs.  Without\n",
        "loss of generality, DGL always includes the destination nodes themselves\n",
        "in the source nodes.\n",
        "\n",
        "\n"
      ]
    },
    {
      "cell_type": "markdown",
      "metadata": {},
      "source": [
        "What’s next?\n",
        "------------\n",
        "\n",
        ":doc:`Stochastic GNN Training for Node Classification in\n",
        "DGL <L1_large_node_classification>`\n",
        "\n",
        "\n"
      ]
    },
    {
      "cell_type": "code",
      "execution_count": null,
      "metadata": {
        "collapsed": false
      },
      "outputs": [],
      "source": [
        "# Thumbnail credits: Understanding graph embedding methods and their applications, Mengjia Xu\n",
        "# sphinx_gallery_thumbnail_path = '_static/large_L0_neighbor_sampling_overview.png'"
      ]
    }
  ],
  "metadata": {
    "kernelspec": {
      "display_name": "Python 3.10.4 ('tf')",
      "language": "python",
      "name": "python3"
    },
    "language_info": {
      "codemirror_mode": {
        "name": "ipython",
        "version": 3
      },
      "file_extension": ".py",
      "mimetype": "text/x-python",
      "name": "python",
      "nbconvert_exporter": "python",
      "pygments_lexer": "ipython3",
      "version": "3.10.4"
    },
    "vscode": {
      "interpreter": {
        "hash": "02aaae3c9b50b62c88d0cc652c4ef3b1b4bf05515e9d7a066ea77f7c79246682"
      }
    }
  },
  "nbformat": 4,
  "nbformat_minor": 0
}
