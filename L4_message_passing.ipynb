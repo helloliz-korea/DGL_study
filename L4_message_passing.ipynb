{
  "cells": [
    {
      "cell_type": "code",
      "execution_count": 1,
      "metadata": {
        "collapsed": false
      },
      "outputs": [],
      "source": [
        "%matplotlib inline"
      ]
    },
    {
      "cell_type": "markdown",
      "metadata": {},
      "source": [
        "\n",
        "Writing GNN Modules for Stochastic GNN Training\n",
        "===============================================\n",
        "\n",
        "All GNN modules DGL provides support stochastic GNN training. This\n",
        "tutorial teaches you how to write your own graph neural network module\n",
        "for stochastic GNN training. It assumes that\n",
        "\n",
        "1. You know :doc:`how to write GNN modules for full graph\n",
        "   training <../blitz/3_message_passing>`.\n",
        "2. You know :doc:`how stochastic GNN training pipeline\n",
        "   works <L1_large_node_classification>`.\n"
      ]
    },
    {
      "cell_type": "code",
      "execution_count": 2,
      "metadata": {
        "collapsed": false
      },
      "outputs": [
        {
          "name": "stderr",
          "output_type": "stream",
          "text": [
            "c:\\Users\\yang.yoonjeong\\anaconda3\\envs\\torch\\lib\\site-packages\\tqdm\\auto.py:22: TqdmWarning: IProgress not found. Please update jupyter and ipywidgets. See https://ipywidgets.readthedocs.io/en/stable/user_install.html\n",
            "  from .autonotebook import tqdm as notebook_tqdm\n",
            "c:\\Users\\yang.yoonjeong\\anaconda3\\envs\\torch\\lib\\site-packages\\dgl\\dataloading\\dataloader.py:859: DGLWarning: Dataloader CPU affinity opt is not enabled, consider switching it on (see enable_cpu_affinity() or CPU best practices for DGL [https://docs.dgl.ai/tutorials/cpu/cpu_best_practises.html])\n",
            "  dgl_warning(f'Dataloader CPU affinity opt is not enabled, consider switching it on '\n"
          ]
        }
      ],
      "source": [
        "import dgl\n",
        "import torch\n",
        "import numpy as np\n",
        "from ogb.nodeproppred import DglNodePropPredDataset\n",
        "\n",
        "dataset = DglNodePropPredDataset('ogbn-arxiv')\n",
        "device = 'cpu'      # change to 'cuda' for GPU\n",
        "\n",
        "graph, node_labels = dataset[0]\n",
        "# Add reverse edges since ogbn-arxiv is unidirectional.\n",
        "graph = dgl.add_reverse_edges(graph)\n",
        "graph.ndata['label'] = node_labels[:, 0]\n",
        "idx_split = dataset.get_idx_split()\n",
        "train_nids = idx_split['train']\n",
        "node_features = graph.ndata['feat']\n",
        "\n",
        "sampler = dgl.dataloading.MultiLayerNeighborSampler([4, 4])\n",
        "train_dataloader = dgl.dataloading.NodeDataLoader(\n",
        "    graph, train_nids, sampler,\n",
        "    batch_size=1024,\n",
        "    shuffle=True,\n",
        "    drop_last=False,\n",
        "    num_workers=0\n",
        ")\n",
        "\n",
        "input_nodes, output_nodes, mfgs = next(iter(train_dataloader))"
      ]
    },
    {
      "cell_type": "markdown",
      "metadata": {},
      "source": [
        "DGL Bipartite Graph Introduction\n",
        "--------------------------------\n",
        "\n",
        "In the previous tutorials, you have seen the concept *message flow graph*\n",
        "(MFG), where nodes are divided into two parts.  It is a kind of (directional)\n",
        "bipartite graph.\n",
        "This section introduces how you can manipulate (directional) bipartite\n",
        "graphs.\n",
        "\n",
        "You can access the source node features and destination node features via\n",
        "``srcdata`` and ``dstdata`` attributes:\n",
        "\n",
        "\n"
      ]
    },
    {
      "cell_type": "code",
      "execution_count": 3,
      "metadata": {
        "collapsed": false
      },
      "outputs": [
        {
          "name": "stdout",
          "output_type": "stream",
          "text": [
            "{'feat': tensor([[-0.0249,  0.1187, -0.3469,  ...,  0.3342, -0.0946,  0.0364],\n",
            "        [-0.0654,  0.0336,  0.0186,  ...,  0.1303, -0.0900, -0.0692],\n",
            "        [-0.2499, -0.0295, -0.0719,  ...,  0.0774,  0.1198, -0.1805],\n",
            "        ...,\n",
            "        [-0.0086,  0.1205, -0.1657,  ...,  0.0179, -0.0021, -0.1153],\n",
            "        [-0.0186,  0.0968, -0.1591,  ..., -0.0239,  0.0994, -0.1697],\n",
            "        [-0.0913, -0.0328, -0.0928,  ...,  0.0847, -0.0196, -0.1483]]), 'year': tensor([[2016],\n",
            "        [2017],\n",
            "        [2009],\n",
            "        ...,\n",
            "        [2017],\n",
            "        [2018],\n",
            "        [2019]]), 'label': tensor([30, 26, 28,  ..., 36, 28, 36]), '_ID': tensor([143189,  38888,  63804,  ...,  87815, 132090, 125027])}\n",
            "{'feat': tensor([[-0.0249,  0.1187, -0.3469,  ...,  0.3342, -0.0946,  0.0364],\n",
            "        [-0.0654,  0.0336,  0.0186,  ...,  0.1303, -0.0900, -0.0692],\n",
            "        [-0.2499, -0.0295, -0.0719,  ...,  0.0774,  0.1198, -0.1805],\n",
            "        ...,\n",
            "        [ 0.0114, -0.1024, -0.2297,  ...,  0.1259, -0.2262, -0.1622],\n",
            "        [-0.1622,  0.0438, -0.2462,  ...,  0.0818, -0.2278, -0.0449],\n",
            "        [-0.0415,  0.0545, -0.1467,  ...,  0.0174,  0.0285, -0.1186]]), 'year': tensor([[2016],\n",
            "        [2017],\n",
            "        [2009],\n",
            "        ...,\n",
            "        [2017],\n",
            "        [2016],\n",
            "        [2017]]), 'label': tensor([30, 26, 28,  ..., 36, 24, 36]), '_ID': tensor([143189,  38888,  63804,  ...,   3677,  18834, 124769])}\n"
          ]
        }
      ],
      "source": [
        "mfg = mfgs[0]\n",
        "print(mfg.srcdata)\n",
        "print(mfg.dstdata)"
      ]
    },
    {
      "cell_type": "markdown",
      "metadata": {},
      "source": [
        "It also has ``num_src_nodes`` and ``num_dst_nodes`` functions to query\n",
        "how many source nodes and destination nodes exist in the bipartite graph:\n",
        "\n",
        "\n"
      ]
    },
    {
      "cell_type": "code",
      "execution_count": 4,
      "metadata": {
        "collapsed": false
      },
      "outputs": [
        {
          "name": "stdout",
          "output_type": "stream",
          "text": [
            "12738 4104\n"
          ]
        }
      ],
      "source": [
        "print(mfg.num_src_nodes(), mfg.num_dst_nodes())"
      ]
    },
    {
      "cell_type": "markdown",
      "metadata": {},
      "source": [
        "You can assign features to ``srcdata`` and ``dstdata`` just as what you\n",
        "will do with ``ndata`` on the graphs you have seen earlier:\n",
        "\n",
        "\n"
      ]
    },
    {
      "cell_type": "code",
      "execution_count": 5,
      "metadata": {
        "collapsed": false
      },
      "outputs": [],
      "source": [
        "mfg.srcdata['x'] = torch.zeros(mfg.num_src_nodes(), mfg.num_dst_nodes())\n",
        "dst_feat = mfg.dstdata['feat']"
      ]
    },
    {
      "cell_type": "markdown",
      "metadata": {},
      "source": [
        "Also, since the bipartite graphs are constructed by DGL, you can\n",
        "retrieve the source node IDs (i.e. those that are required to compute the\n",
        "output) and destination node IDs (i.e. those whose representations the\n",
        "current GNN layer should compute) as follows.\n",
        "\n",
        "\n"
      ]
    },
    {
      "cell_type": "code",
      "execution_count": 6,
      "metadata": {
        "collapsed": false
      },
      "outputs": [
        {
          "data": {
            "text/plain": [
              "(tensor([143189,  38888,  63804,  ...,  87815, 132090, 125027]),\n",
              " tensor([143189,  38888,  63804,  ...,   3677,  18834, 124769]))"
            ]
          },
          "execution_count": 6,
          "metadata": {},
          "output_type": "execute_result"
        }
      ],
      "source": [
        "mfg.srcdata[dgl.NID], mfg.dstdata[dgl.NID]"
      ]
    },
    {
      "cell_type": "markdown",
      "metadata": {},
      "source": [
        "Writing GNN Modules for Bipartite Graphs for Stochastic Training\n",
        "----------------------------------------------------------------\n",
        "\n",
        "\n"
      ]
    },
    {
      "cell_type": "markdown",
      "metadata": {},
      "source": [
        "Recall that the MFGs yielded by the ``NodeDataLoader`` and\n",
        "``EdgeDataLoader`` have the property that the first few source nodes are\n",
        "always identical to the destination nodes:\n",
        "\n",
        "|image1|\n",
        "\n",
        ".. |image1| image:: https://data.dgl.ai/tutorial/img/bipartite.gif\n",
        "\n",
        "\n"
      ]
    },
    {
      "cell_type": "code",
      "execution_count": 7,
      "metadata": {
        "collapsed": false
      },
      "outputs": [
        {
          "name": "stdout",
          "output_type": "stream",
          "text": [
            "True\n"
          ]
        }
      ],
      "source": [
        "print(torch.equal(mfg.srcdata[dgl.NID][:mfg.num_dst_nodes()], mfg.dstdata[dgl.NID]))"
      ]
    },
    {
      "cell_type": "markdown",
      "metadata": {},
      "source": [
        "Suppose you have obtained the source node representations\n",
        "$h_u^{(l-1)}$:\n",
        "\n",
        "\n"
      ]
    },
    {
      "cell_type": "code",
      "execution_count": 8,
      "metadata": {
        "collapsed": false
      },
      "outputs": [],
      "source": [
        "mfg.srcdata['h'] = torch.randn(mfg.num_src_nodes(), 10)"
      ]
    },
    {
      "cell_type": "markdown",
      "metadata": {},
      "source": [
        "Recall that DGL provides the `update_all` interface for expressing how\n",
        "to compute messages and how to aggregate them on the nodes that receive\n",
        "them. This concept naturally applies to bipartite graphs like MFGs -- message\n",
        "computation happens on the edges between source and destination nodes of\n",
        "the edges, and message aggregation happens on the destination nodes.\n",
        "\n",
        "For example, suppose the message function copies the source feature\n",
        "(i.e. $M^{(l)}\\left(h_v^{(l-1)}, h_u^{(l-1)}, e_{u\\to v}^{(l-1)}\\right) = h_v^{(l-1)}$),\n",
        "and the reduce function averages the received messages.  Performing\n",
        "such message passing computation on a bipartite graph is no different than\n",
        "on a full graph:\n",
        "\n",
        "\n"
      ]
    },
    {
      "cell_type": "code",
      "execution_count": 9,
      "metadata": {
        "collapsed": false
      },
      "outputs": [
        {
          "data": {
            "text/plain": [
              "tensor([[-0.1576, -0.3102,  0.6951,  ..., -0.0200,  0.3621, -0.7437],\n",
              "        [ 0.3813,  0.4463,  0.6401,  ...,  0.3814, -0.1087,  0.3147],\n",
              "        [ 0.1300, -0.2610,  0.0618,  ..., -0.9844,  0.9537,  0.3903],\n",
              "        ...,\n",
              "        [-0.2273, -0.9662, -0.1553,  ...,  0.2449, -0.4559,  0.8858],\n",
              "        [ 0.1057, -0.0303,  0.5050,  ...,  0.6291,  0.1862,  0.1322],\n",
              "        [-0.1711,  0.9931, -0.3271,  ...,  0.0836,  0.5056, -0.1056]])"
            ]
          },
          "execution_count": 9,
          "metadata": {},
          "output_type": "execute_result"
        }
      ],
      "source": [
        "import dgl.function as fn\n",
        "\n",
        "mfg.update_all(message_func=fn.copy_u('h', 'm'), reduce_func=fn.mean('m', 'h'))\n",
        "m_v = mfg.dstdata['h']\n",
        "m_v"
      ]
    },
    {
      "cell_type": "markdown",
      "metadata": {},
      "source": [
        "Putting them together, you can implement a GraphSAGE convolution for\n",
        "training with neighbor sampling as follows (the differences to the :doc:`full graph\n",
        "counterpart <../blitz/3_message_passing>` are highlighted with arrows ``<---``)\n",
        "\n",
        "\n"
      ]
    },
    {
      "cell_type": "code",
      "execution_count": 10,
      "metadata": {
        "collapsed": false
      },
      "outputs": [
        {
          "name": "stderr",
          "output_type": "stream",
          "text": [
            "100%|██████████| 89/89 [00:01<00:00, 75.75it/s]\n"
          ]
        }
      ],
      "source": [
        "import torch.nn as nn\n",
        "import torch.nn.functional as F\n",
        "import tqdm\n",
        "\n",
        "class SAGEConv(nn.Module):\n",
        "    \"\"\"Graph convolution module used by the GraphSAGE model.\n",
        "\n",
        "    Parameters\n",
        "    ----------\n",
        "    in_feat : int\n",
        "        Input feature size.\n",
        "    out_feat : int\n",
        "        Output feature size.\n",
        "    \"\"\"\n",
        "    def __init__(self, in_feat, out_feat):\n",
        "        super(SAGEConv, self).__init__()\n",
        "        # A linear submodule for projecting the input and neighbor feature to the output.\n",
        "        self.linear = nn.Linear(in_feat * 2, out_feat)\n",
        "\n",
        "    def forward(self, g, h):\n",
        "        \"\"\"Forward computation\n",
        "\n",
        "        Parameters\n",
        "        ----------\n",
        "        g : Graph\n",
        "            The input MFG.\n",
        "        h : (Tensor, Tensor)\n",
        "            The feature of source nodes and destination nodes as a pair of Tensors.\n",
        "        \"\"\"\n",
        "        with g.local_scope():\n",
        "            h_src, h_dst = h\n",
        "            g.srcdata['h'] = h_src                        # <---\n",
        "            g.dstdata['h'] = h_dst                        # <---\n",
        "            # update_all is a message passing API.\n",
        "            g.update_all(fn.copy_u('h', 'm'), fn.mean('m', 'h_N'))\n",
        "            h_N = g.dstdata['h_N']\n",
        "            h_total = torch.cat([h_dst, h_N], dim=1)      # <---\n",
        "            return self.linear(h_total)\n",
        "\n",
        "class Model(nn.Module):\n",
        "    def __init__(self, in_feats, h_feats, num_classes):\n",
        "        super(Model, self).__init__()\n",
        "        self.conv1 = SAGEConv(in_feats, h_feats)\n",
        "        self.conv2 = SAGEConv(h_feats, num_classes)\n",
        "\n",
        "    def forward(self, mfgs, x):\n",
        "        h_dst = x[:mfgs[0].num_dst_nodes()]\n",
        "        h = self.conv1(mfgs[0], (x, h_dst))\n",
        "        h = F.relu(h)\n",
        "        h_dst = h[:mfgs[1].num_dst_nodes()]\n",
        "        h = self.conv2(mfgs[1], (h, h_dst))\n",
        "        return h\n",
        "\n",
        "sampler = dgl.dataloading.MultiLayerNeighborSampler([4, 4])\n",
        "train_dataloader = dgl.dataloading.NodeDataLoader(\n",
        "    graph, train_nids, sampler,\n",
        "    device=device,\n",
        "    batch_size=1024,\n",
        "    shuffle=True,\n",
        "    drop_last=False,\n",
        "    num_workers=0\n",
        ")\n",
        "model = Model(graph.ndata['feat'].shape[1], 128, dataset.num_classes).to(device)\n",
        "\n",
        "with tqdm.tqdm(train_dataloader) as tq:\n",
        "    for step, (input_nodes, output_nodes, mfgs) in enumerate(tq):\n",
        "        inputs = mfgs[0].srcdata['feat']\n",
        "        labels = mfgs[-1].dstdata['label']\n",
        "        predictions = model(mfgs, inputs)"
      ]
    },
    {
      "cell_type": "markdown",
      "metadata": {},
      "source": [
        "Both ``update_all`` and the functions in ``nn.functional`` namespace\n",
        "support MFGs, so you can migrate the code working for small\n",
        "graphs to large graph training with minimal changes introduced above.\n",
        "\n",
        "\n"
      ]
    },
    {
      "cell_type": "markdown",
      "metadata": {},
      "source": [
        "Writing GNN Modules for Both Full-graph Training and Stochastic Training\n",
        "------------------------------------------------------------------------\n",
        "\n",
        "Here is a step-by-step tutorial for writing a GNN module for both\n",
        ":doc:`full-graph training <../blitz/1_introduction>` *and* :doc:`stochastic\n",
        "training <L1_large_node_classification>`.\n",
        "\n",
        "Say you start with a GNN module that works for full-graph training only:\n",
        "\n",
        "\n"
      ]
    },
    {
      "cell_type": "code",
      "execution_count": 11,
      "metadata": {
        "collapsed": false
      },
      "outputs": [],
      "source": [
        "class SAGEConv(nn.Module):\n",
        "    \"\"\"Graph convolution module used by the GraphSAGE model.\n",
        "\n",
        "    Parameters\n",
        "    ----------\n",
        "    in_feat : int\n",
        "        Input feature size.\n",
        "    out_feat : int\n",
        "        Output feature size.\n",
        "    \"\"\"\n",
        "    def __init__(self, in_feat, out_feat):\n",
        "        super().__init__()\n",
        "        # A linear submodule for projecting the input and neighbor feature to the output.\n",
        "        self.linear = nn.Linear(in_feat * 2, out_feat)\n",
        "\n",
        "    def forward(self, g, h):\n",
        "        \"\"\"Forward computation\n",
        "\n",
        "        Parameters\n",
        "        ----------\n",
        "        g : Graph\n",
        "            The input graph.\n",
        "        h : Tensor\n",
        "            The input node feature.\n",
        "        \"\"\"\n",
        "        with g.local_scope():\n",
        "            g.ndata['h'] = h\n",
        "            # update_all is a message passing API.\n",
        "            g.update_all(message_func=fn.copy_u('h', 'm'), reduce_func=fn.mean('m', 'h_N'))\n",
        "            h_N = g.ndata['h_N']\n",
        "            h_total = torch.cat([h, h_N], dim=1)\n",
        "            return self.linear(h_total)"
      ]
    },
    {
      "cell_type": "markdown",
      "metadata": {},
      "source": [
        "**First step**: Check whether the input feature is a single tensor or a\n",
        "pair of tensors:\n",
        "\n",
        ".. code:: python\n",
        "\n",
        "   if isinstance(h, tuple):\n",
        "       h_src, h_dst = h\n",
        "   else:\n",
        "       h_src = h_dst = h\n",
        "\n",
        "**Second step**: Replace node features ``h`` with ``h_src`` or\n",
        "``h_dst``, and assign the node features to ``srcdata`` or ``dstdata``,\n",
        "instead of ``ndata``.\n",
        "\n",
        "Whether to assign to ``srcdata`` or ``dstdata`` depends on whether the\n",
        "said feature acts as the features on source nodes or destination nodes\n",
        "of the edges in the message functions (in ``update_all`` or\n",
        "``apply_edges``).\n",
        "\n",
        "*Example 1*: For the following ``update_all`` statement:\n",
        "\n",
        ".. code:: python\n",
        "\n",
        "   g.ndata['h'] = h\n",
        "   g.update_all(message_func=fn.copy_u('h', 'm'), reduce_func=fn.mean('m', 'h_N'))\n",
        "\n",
        "The node feature ``h`` acts as source node feature because ``'h'``\n",
        "appeared as source node feature. So you will need to replace ``h`` with\n",
        "source feature ``h_src`` and assign to ``srcdata`` for the version that\n",
        "works with both cases:\n",
        "\n",
        ".. code:: python\n",
        "\n",
        "   g.srcdata['h'] = h_src\n",
        "   g.update_all(message_func=fn.copy_u('h', 'm'), reduce_func=fn.mean('m', 'h_N'))\n",
        "\n",
        "*Example 2*: For the following ``apply_edges`` statement:\n",
        "\n",
        ".. code:: python\n",
        "\n",
        "   g.ndata['h'] = h\n",
        "   g.apply_edges(fn.u_dot_v('h', 'h', 'score'))\n",
        "\n",
        "The node feature ``h`` acts as both source node feature and destination\n",
        "node feature. So you will assign ``h_src`` to ``srcdata`` and ``h_dst``\n",
        "to ``dstdata``:\n",
        "\n",
        ".. code:: python\n",
        "\n",
        "   g.srcdata['h'] = h_src\n",
        "   g.dstdata['h'] = h_dst\n",
        "   # The first 'h' corresponds to source feature (u) while the second 'h' corresponds to destination feature (v).\n",
        "   g.apply_edges(fn.u_dot_v('h', 'h', 'score'))\n",
        "\n",
        "<div class=\"alert alert-info\"><h4>Note</h4><p>For homogeneous graphs (i.e. graphs with only one node type\n",
        "   and one edge type), ``srcdata`` and ``dstdata`` are aliases of\n",
        "   ``ndata``. So you can safely replace ``ndata`` with ``srcdata`` and\n",
        "   ``dstdata`` even for full-graph training.</p></div>\n",
        "\n",
        "**Third step**: Replace the ``ndata`` for outputs with ``dstdata``.\n",
        "\n",
        "For example, the following code\n",
        "\n",
        ".. code:: python\n",
        "\n",
        "   # Assume that update_all() function has been called with output node features in `h_N`.\n",
        "   h_N = g.ndata['h_N']\n",
        "   h_total = torch.cat([h, h_N], dim=1)\n",
        "\n",
        "will change to\n",
        "\n",
        ".. code:: python\n",
        "\n",
        "   h_N = g.dstdata['h_N']\n",
        "   h_total = torch.cat([h_dst, h_N], dim=1)\n",
        "\n",
        "\n"
      ]
    },
    {
      "cell_type": "markdown",
      "metadata": {},
      "source": [
        "Putting together, you will change the ``SAGEConvForBoth`` module above\n",
        "to something like the following:\n",
        "\n",
        "\n"
      ]
    },
    {
      "cell_type": "code",
      "execution_count": 12,
      "metadata": {
        "collapsed": false
      },
      "outputs": [],
      "source": [
        "class SAGEConvForBoth(nn.Module):\n",
        "    \"\"\"Graph convolution module used by the GraphSAGE model.\n",
        "\n",
        "    Parameters\n",
        "    ----------\n",
        "    in_feat : int\n",
        "        Input feature size.\n",
        "    out_feat : int\n",
        "        Output feature size.\n",
        "    \"\"\"\n",
        "    def __init__(self, in_feat, out_feat):\n",
        "        super().__init__()\n",
        "        # A linear submodule for projecting the input and neighbor feature to the output.\n",
        "        self.linear = nn.Linear(in_feat * 2, out_feat)\n",
        "\n",
        "    def forward(self, g, h):\n",
        "        \"\"\"Forward computation\n",
        "\n",
        "        Parameters\n",
        "        ----------\n",
        "        g : Graph\n",
        "            The input graph.\n",
        "        h : Tensor or tuple[Tensor, Tensor]\n",
        "            The input node feature.\n",
        "        \"\"\"\n",
        "        with g.local_scope():\n",
        "            if isinstance(h, tuple):\n",
        "                h_src, h_dst = h\n",
        "            else:\n",
        "                h_src = h_dst = h\n",
        "\n",
        "            g.srcdata['h'] = h_src\n",
        "            # update_all is a message passing API.\n",
        "            g.update_all(message_func=fn.copy_u('h', 'm'), reduce_func=fn.mean('m', 'h_N'))\n",
        "            h_N = g.ndata['h_N']\n",
        "            h_total = torch.cat([h_dst, h_N], dim=1)\n",
        "            return self.linear(h_total)\n",
        "\n",
        "\n",
        "# Thumbnail credits: Representation Learning on Networks, Jure Leskovec, WWW 2018\n",
        "# sphinx_gallery_thumbnail_path = '_static/blitz_3_message_passing.png'"
      ]
    }
  ],
  "metadata": {
    "kernelspec": {
      "display_name": "Python 3.10.6 ('torch')",
      "language": "python",
      "name": "python3"
    },
    "language_info": {
      "codemirror_mode": {
        "name": "ipython",
        "version": 3
      },
      "file_extension": ".py",
      "mimetype": "text/x-python",
      "name": "python",
      "nbconvert_exporter": "python",
      "pygments_lexer": "ipython3",
      "version": "3.10.6"
    },
    "vscode": {
      "interpreter": {
        "hash": "fec2c05703d0080e6fd294faeab87a4e3eaf52cde4adf51bddbbb91aae929392"
      }
    }
  },
  "nbformat": 4,
  "nbformat_minor": 0
}
