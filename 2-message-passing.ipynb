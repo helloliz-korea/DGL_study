{
 "cells": [
  {
   "cell_type": "markdown",
   "metadata": {},
   "source": [
    "# 2장: 메지시 전달(Message Passing)\n",
    "## 2.1 빌트인 함수 및 메지시 전달 API들"
   ]
  },
  {
   "cell_type": "code",
   "execution_count": null,
   "metadata": {},
   "outputs": [],
   "source": [
    "def message_func(edges):\n",
    "     return {'he': edges.src['hu'] + edges.dst['hv']}"
   ]
  },
  {
   "cell_type": "code",
   "execution_count": null,
   "metadata": {},
   "outputs": [],
   "source": [
    "import torch\n",
    "def reduce_func(nodes):\n",
    "     return {'h': torch.sum(nodes.mailbox['m'], dim=1)}"
   ]
  },
  {
   "cell_type": "code",
   "execution_count": null,
   "metadata": {},
   "outputs": [],
   "source": [
    "import dgl.function as fn\n",
    "graph.apply_edges(fn.u_add_v('el', 'er', 'e'))"
   ]
  },
  {
   "cell_type": "code",
   "execution_count": null,
   "metadata": {},
   "outputs": [],
   "source": [
    "def update_all_example(graph):\n",
    "    # store the result in graph.ndata['ft']\n",
    "    graph.update_all(fn.u_mul_e('ft', 'a', 'm'),\n",
    "                     fn.sum('m', 'ft'))\n",
    "    # Call update function outside of update_all\n",
    "    final_ft = graph.ndata['ft'] * 2\n",
    "    return final_ft"
   ]
  },
  {
   "cell_type": "markdown",
   "metadata": {},
   "source": [
    "## 2.2 효율적인 메시지 전달 코드 작성 방법¶"
   ]
  },
  {
   "cell_type": "code",
   "execution_count": null,
   "metadata": {},
   "outputs": [],
   "source": [
    "import torch\n",
    "import torch.nn as nn\n",
    "\n",
    "linear = nn.Parameter(torch.FloatTensor(size=(node_feat_dim * 2, out_dim)))\n",
    "def concat_message_function(edges):\n",
    "     return {'cat_feat': torch.cat([edges.src['feat'], edges.dst['feat']], dim=1)}\n",
    "g.apply_edges(concat_message_function)\n",
    "g.edata['out'] = g.edata['cat_feat'] @ linear"
   ]
  },
  {
   "cell_type": "code",
   "execution_count": null,
   "metadata": {},
   "outputs": [],
   "source": [
    "import dgl.function as fn\n",
    "\n",
    "linear_src = nn.Parameter(torch.FloatTensor(size=(node_feat_dim, out_dim)))\n",
    "linear_dst = nn.Parameter(torch.FloatTensor(size=(node_feat_dim, out_dim)))\n",
    "out_src = g.ndata['feat'] @ linear_src\n",
    "out_dst = g.ndata['feat'] @ linear_dst\n",
    "g.srcdata.update({'out_src': out_src})\n",
    "g.dstdata.update({'out_dst': out_dst})\n",
    "g.apply_edges(fn.u_add_v('out_src', 'out_dst', 'out'))"
   ]
  },
  {
   "cell_type": "markdown",
   "metadata": {},
   "source": [
    "## 2.3 그래프 일부에 메지시 전달 적용하기 : 미니-배치 학습에서 흔히 사용되는 방법"
   ]
  },
  {
   "cell_type": "code",
   "execution_count": null,
   "metadata": {},
   "outputs": [],
   "source": [
    "nid = [0, 2, 3, 6, 7, 9]\n",
    "sg = g.subgraph(nid)\n",
    "sg.update_all(message_func, reduce_func, apply_node_func)"
   ]
  },
  {
   "cell_type": "markdown",
   "metadata": {},
   "source": [
    "## 2.4 메시지 전달에 에지 가중치 적용하기\n",
    "GAT 또는 일부 GCN 변형 에서 사용되는 것처럼 메시지 병합이전에 에지의 가중치를 적용하는 것은 GNN 모델링에서 흔하게 사용되는 기법이다. DGL은 이를 다음과 같은 밥벙으로 지원하고 있다.\n",
    "- 가중치를 에지 피쳐로 저장\n",
    "- 메시지 함수에서 에지 피쳐를 소스 노드의 피쳐와 곱하기"
   ]
  },
  {
   "cell_type": "code",
   "execution_count": null,
   "metadata": {},
   "outputs": [],
   "source": [
    "import dgl.function as fn\n",
    "\n",
    "# Suppose eweight is a tensor of shape (E, *), where E is the number of edges.\n",
    "graph.edata['a'] = eweight\n",
    "graph.update_all(fn.u_mul_e('ft', 'a', 'm'),\n",
    "                 fn.sum('m', 'ft'))"
   ]
  },
  {
   "cell_type": "markdown",
   "metadata": {},
   "source": [
    "## 2.5 이종 그래프에서의 메시지 전달\n",
    "이종 그래프에서 메시지 전달은 두 파트로 나뉜다:\n",
    "1. 각 관계(relation) r에 대한, 메지시 연산과 집계(aggregation)\n",
    "2. 가 노트 타입에 대한 모든 관계의 집계 결과를 합치는 축약(reduction)"
   ]
  },
  {
   "cell_type": "code",
   "execution_count": null,
   "metadata": {},
   "outputs": [],
   "source": [
    "import dgl.function as fn\n",
    "\n",
    "for c_etype in G.canonical_etypes:\n",
    "    srctype, etype, dsttype = c_etype\n",
    "    Wh = self.weight[etype](feat_dict[srctype])\n",
    "    # Save it in graph for message passing\n",
    "    G.nodes[srctype].data['Wh_%s' % etype] = Wh\n",
    "    # Specify per-relation message passing functions: (message_func, reduce_func).\n",
    "    # Note that the results are saved to the same destination feature 'h', which\n",
    "    # hints the type wise reducer for aggregation.\n",
    "    funcs[etype] = (fn.copy_u('Wh_%s' % etype, 'm'), fn.mean('m', 'h'))\n",
    "# Trigger message passing of multiple types.\n",
    "G.multi_update_all(funcs, 'sum')\n",
    "# return the updated node feature dictionary\n",
    "return {ntype : G.nodes[ntype].data['h'] for ntype in G.ntypes}"
   ]
  },
  {
   "cell_type": "code",
   "execution_count": null,
   "metadata": {},
   "outputs": [],
   "source": []
  },
  {
   "cell_type": "code",
   "execution_count": null,
   "metadata": {},
   "outputs": [],
   "source": []
  },
  {
   "cell_type": "code",
   "execution_count": null,
   "metadata": {},
   "outputs": [],
   "source": []
  }
 ],
 "metadata": {
  "kernelspec": {
   "display_name": "Python 3.10.4 ('tf')",
   "language": "python",
   "name": "python3"
  },
  "language_info": {
   "name": "python",
   "version": "3.10.4"
  },
  "orig_nbformat": 4,
  "vscode": {
   "interpreter": {
    "hash": "02aaae3c9b50b62c88d0cc652c4ef3b1b4bf05515e9d7a066ea77f7c79246682"
   }
  }
 },
 "nbformat": 4,
 "nbformat_minor": 2
}
