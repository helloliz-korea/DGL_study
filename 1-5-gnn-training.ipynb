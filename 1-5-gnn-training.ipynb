{
 "cells": [
  {
   "cell_type": "markdown",
   "metadata": {},
   "source": [
    "## 1.5 이종 그래프 (Heterogeneous Graph\n",
    "- 다른 타입의 노드와 에지를 갖는 그래프\n",
    "- 다른 타입의 노드/에지는 독립적인 ID 공간과 피처 저장소를 가짐\n",
    "- 아래 그램의 예를 보면, user와 game 노드 ID는 모두 0부터 시작하고, 서로 다른 피처들을 갖고 있ㅇ므\n",
    "<img src = \"https://data.dgl.ai/asset/image/user_guide_graphch_2.png\">\\\n",
    "두 타입의 노드(user와 game)와 두 타입의 에지(follows와 plays)를 갖는 이종 그래프 예\n",
    "\n",
    "#### 1. 이종 그래프 생성하기\n",
    "- DGL에서 이종 그래프(짧게 heterograph)는 관계당 하나의 그래프들의 시리즈로 표현\n",
    "- 각 관계는 문자열 트리플 `(source node type, edge type, destination node type)` \n",
    "- 관계가 에지 타입을 명확하게 하기 때문에, DGL은 이것들을 캐노니컬(canonical) 에지 타입이라고 함"
   ]
  },
  {
   "cell_type": "code",
   "execution_count": 11,
   "metadata": {},
   "outputs": [
    {
     "data": {
      "text/plain": [
       "[('drug', 'interacts', 'drug'),\n",
       " ('drug', 'interacts', 'gene'),\n",
       " ('drug', 'treats', 'disease')]"
      ]
     },
     "execution_count": 11,
     "metadata": {},
     "output_type": "execute_result"
    }
   ],
   "source": [
    "# DGL에서 이종 그래프를 만드는 예제\n",
    "import dgl\n",
    "import torch as th\n",
    "# Create a heterograph with 3 node types and 3 edges types.\n",
    "graph_data = {\n",
    "   ('drug', 'interacts', 'drug'): (th.tensor([0, 1]), th.tensor([1, 2])),\n",
    "   ('drug', 'interacts', 'gene'): (th.tensor([0, 1]), th.tensor([2, 3])),\n",
    "   ('drug', 'treats', 'disease'): (th.tensor([1]), th.tensor([2]))\n",
    "}\n",
    "g = dgl.heterograph(graph_data)\n",
    "g.ntypes\n",
    "g.etypes\n",
    "g.canonical_etypes"
   ]
  },
  {
   "cell_type": "code",
   "execution_count": 12,
   "metadata": {},
   "outputs": [
    {
     "data": {
      "text/plain": [
       "Graph(num_nodes={'destination_type': 4, 'source_type': 2},\n",
       "      num_edges={('source_type', 'edge_type', 'destination_type'): 2},\n",
       "      metagraph=[('source_type', 'destination_type', 'edge_type')])"
      ]
     },
     "execution_count": 12,
     "metadata": {},
     "output_type": "execute_result"
    }
   ],
   "source": [
    "# 특별한 이종 그래프의 예 : 동종(homogeneous) 및 이분(bipartite) 그래프 = 하나의 관계를 갖는 그래프\n",
    "uh, vh = th.tensor([0, 1]), th.tensor([1, 2])\n",
    "ub, vb = th.tensor([0, 1]), th.tensor([2, 3])\n",
    "# A homogeneous graph\n",
    "dgl.heterograph({('node_type', 'edge_type', 'node_type'): (uh, vh)})\n",
    "# A bipartite graph\n",
    "dgl.heterograph({('source_type', 'edge_type', 'destination_type'): (ub, vb)})"
   ]
  },
  {
   "cell_type": "markdown",
   "metadata": {},
   "source": [
    "- 이종 그래프와 연관된 메타그래프(metagraph) 는 그래프의 스키마\n",
    "- 이것은 노드들과 노드간의 에지들의 집합에 대한 타입 제약 조건을 지정\n",
    "- 메타그래프의 노드 u 는 연관된 이종 그래프의 노드 타입에 해당\n",
    "- 메타그래프의 에지 (u,v) 는 연관된 이종 그래프의 노드 타입 u 와 노드 타입 v 간에 에지가 있다는 것을 알려줌"
   ]
  },
  {
   "cell_type": "code",
   "execution_count": 13,
   "metadata": {},
   "outputs": [
    {
     "data": {
      "text/plain": [
       "OutMultiEdgeDataView([('drug', 'drug'), ('drug', 'gene'), ('drug', 'disease')])"
      ]
     },
     "execution_count": 13,
     "metadata": {},
     "output_type": "execute_result"
    }
   ],
   "source": [
    "g\n",
    "g.metagraph().edges()"
   ]
  },
  {
   "cell_type": "markdown",
   "metadata": {},
   "source": [
    "- 참고할 API들: `dgl.heterograph() , ntypes , etypes , canonical_etypes , metagraph`\n",
    "\n",
    "#### 2. 다양한 타입을 다루기\n",
    "- 노드와 에지가 여러 타입이 사용되는 경우, 타입 관련된 정보를 위한 DGL Graph API를 호출할 때는 노드/에지의 타입을 명시해야 함\n",
    "- 추가로 다른 타입의 노드/에지는 별도의 ID를 가짐"
   ]
  },
  {
   "cell_type": "code",
   "execution_count": 14,
   "metadata": {},
   "outputs": [
    {
     "data": {
      "text/plain": [
       "tensor([0, 1, 2])"
      ]
     },
     "execution_count": 14,
     "metadata": {},
     "output_type": "execute_result"
    }
   ],
   "source": [
    "# Get the number of all nodes in the graph\n",
    "g.num_nodes()\n",
    "# Get the number of drug nodes\n",
    "g.num_nodes('drug')\n",
    "# Nodes of different types have separate IDs,\n",
    "# hence not well-defined without a type specified\n",
    "#g.nodes()\n",
    "g.nodes('drug')"
   ]
  },
  {
   "cell_type": "code",
   "execution_count": 15,
   "metadata": {},
   "outputs": [
    {
     "data": {
      "text/plain": [
       "tensor([[0.]])"
      ]
     },
     "execution_count": 15,
     "metadata": {},
     "output_type": "execute_result"
    }
   ],
   "source": [
    "# 특정 노드/에지 타입에 대한 피쳐를 설정하고 얻을 때, DGL에서 제공하는 두가지 새로운 형태의 문법\n",
    "# g.nodes[‘node_type’].data[‘feat_name’]`,  `g.edges[‘edge_type’].data[‘feat_name’]\n",
    "\n",
    "# Set/get feature 'hv' for nodes of type 'drug'\n",
    "g.nodes['drug'].data['hv'] = th.ones(3, 1)\n",
    "g.nodes['drug'].data['hv']\n",
    "# Set/get feature 'he' for edge of type 'treats'\n",
    "g.edges['treats'].data['he'] = th.zeros(1, 1)\n",
    "g.edges['treats'].data['he']"
   ]
  },
  {
   "cell_type": "code",
   "execution_count": 16,
   "metadata": {},
   "outputs": [],
   "source": [
    "# 만약 그래프가 오직 한개의 노드/에지 타입을 갖는다면, 노드/에지 타입을 명시할 필요가 없다\n",
    "g = dgl.heterograph({\n",
    "   ('drug', 'interacts', 'drug'): (th.tensor([0, 1]), th.tensor([1, 2])),\n",
    "   ('drug', 'is similar', 'drug'): (th.tensor([0, 1]), th.tensor([2, 3]))\n",
    "})\n",
    "g.nodes()\n",
    "# To set/get feature with a single type, no need to use the new syntax\n",
    "g.ndata['hv'] = th.ones(4, 1)"
   ]
  },
  {
   "cell_type": "markdown",
   "metadata": {},
   "source": [
    "- Note\n",
    "    - 에지 타입이 목적지와 도착지 노드의 타입을 고유하게 결정할 수 있다면, 에지 타입을 명시할 때 문자 트리플 대신 한 문자만들 사용 가능\n",
    "    - 예 : 두 관계 `('user', 'plays', 'game')` 과 `('user', 'likes', 'game')`를 갖는 이종 그래프가 있을 때, 두 관계를 지정하기 위해서 단지 `'plays'` 또는 `'likes'` 를 사용해도 됨\n",
    "\n",
    "#### 3. 디스크에서 이종 그래프 로딩하기\n",
    "##### (1) Comma Separated Values (CSV) : 이종 그래프를 저장하는 일반적인 방법은 다른 타입의 노드와 에지를 서로 다른 CSV 파일에 저장하는 것\n",
    "``````\n",
    "# data folder\n",
    "data/\n",
    "|-- drug.csv        # drug nodes\n",
    "|-- gene.csv        # gene nodes\n",
    "|-- disease.csv     # disease nodes\n",
    "|-- drug-interact-drug.csv  # drug-drug interaction edges\n",
    "|-- drug-interact-gene.csv  # drug-gene interaction edges\n",
    "|-- drug-treat-disease.csv  # drug-treat-disease edges\n",
    "``````\n",
    "##### (2) DGL 바이너리 포멧\n",
    "- DGL은 이종 그래프를 바이너리 포멧으로 저장하고 읽기 위한 함수 `dgl.save_graphs()` 와 `dgl.load_graphs()` 를 제공\n",
    "\n",
    "#### 4. 에지 타입 서브그래프\n",
    "- 보존하고 싶은 관계를 명시\n",
    "- 피처가 있을 경우는 이를 복사하면서 이종 그래프의 서브그래프를 생성"
   ]
  },
  {
   "cell_type": "code",
   "execution_count": 17,
   "metadata": {},
   "outputs": [
    {
     "data": {
      "text/plain": [
       "tensor([[1.],\n",
       "        [1.],\n",
       "        [1.]])"
      ]
     },
     "execution_count": 17,
     "metadata": {},
     "output_type": "execute_result"
    }
   ],
   "source": [
    "g = dgl.heterograph({\n",
    "   ('drug', 'interacts', 'drug'): (th.tensor([0, 1]), th.tensor([1, 2])),\n",
    "   ('drug', 'interacts', 'gene'): (th.tensor([0, 1]), th.tensor([2, 3])),\n",
    "   ('drug', 'treats', 'disease'): (th.tensor([1]), th.tensor([2]))\n",
    "})\n",
    "g.nodes['drug'].data['hv'] = th.ones(3, 1)\n",
    "# Retain relations ('drug', 'interacts', 'drug') and ('drug', 'treats', 'disease')\n",
    "# All nodes for 'drug' and 'disease' will be retained\n",
    "eg = dgl.edge_type_subgraph(g, [('drug', 'interacts', 'drug'),\n",
    "                                ('drug', 'treats', 'disease')])\n",
    "eg\n",
    "# The associated features will be copied as well\n",
    "eg.nodes['drug'].data['hv']"
   ]
  },
  {
   "cell_type": "markdown",
   "metadata": {},
   "source": [
    "#### 5. 이종 그래프를 동종 그래프로 변환하기\n",
    "- 이종 그래프는 다른 타입의 노드/에지와 그것들에 연관된 피쳐들을 관리하는데 깔끔한 인터페이스를 제공\n",
    "- 아래의 경우 특히 유용\n",
    "    1. 다른 타입의 노드/에지에 대한 피쳐가 다른 데이터 타입 또는 크기를 갖는다.\n",
    "    2. 다른 타입의 노드/에지에 다른 연산을 적용하고 싶다.\n",
    "- 만약 위 조건을 만족하지 않고 모델링에서 노드/에지 타입의 구별이 필요하지 않는다면 : DGL의 `dgl.DGLGraph.to_homogeneous()` API를 이용해서 이종 그래프를 동종 그래프로 변환 가능 (아래의 절차를 따름)\n",
    "    1. 모든 타입의 노드/에지를 0부터 시작하는 정수로 레이블을 다시 부여한다.\n",
    "    2. 사용자가 지정한 노드/에지 타입들에 걸쳐서 피쳐들을 합친다."
   ]
  },
  {
   "cell_type": "code",
   "execution_count": 18,
   "metadata": {},
   "outputs": [
    {
     "ename": "DGLError",
     "evalue": "Cannot concatenate column he with shape Scheme(shape=(2,), dtype=torch.float32) and shape Scheme(shape=(1,), dtype=torch.float32)",
     "output_type": "error",
     "traceback": [
      "\u001b[1;31m---------------------------------------------------------------------------\u001b[0m",
      "\u001b[1;31mDGLError\u001b[0m                                  Traceback (most recent call last)",
      "\u001b[1;32mUntitled-1.ipynb 셀 13\u001b[0m in \u001b[0;36m<cell line: 14>\u001b[1;34m()\u001b[0m\n\u001b[0;32m     <a href='vscode-notebook-cell:Untitled-1.ipynb?jupyter-notebook#W4sdW50aXRsZWQ%3D?line=9'>10</a>\u001b[0m \u001b[39m'\u001b[39m\u001b[39mhv\u001b[39m\u001b[39m'\u001b[39m \u001b[39min\u001b[39;00m hg\u001b[39m.\u001b[39mndata\n\u001b[0;32m     <a href='vscode-notebook-cell:Untitled-1.ipynb?jupyter-notebook#W4sdW50aXRsZWQ%3D?line=10'>11</a>\u001b[0m \u001b[39m# Copy edge features\u001b[39;00m\n\u001b[0;32m     <a href='vscode-notebook-cell:Untitled-1.ipynb?jupyter-notebook#W4sdW50aXRsZWQ%3D?line=11'>12</a>\u001b[0m \u001b[39m# For feature copy, it expects features to have\u001b[39;00m\n\u001b[0;32m     <a href='vscode-notebook-cell:Untitled-1.ipynb?jupyter-notebook#W4sdW50aXRsZWQ%3D?line=12'>13</a>\u001b[0m \u001b[39m# the same size and dtype across node/edge types\u001b[39;00m\n\u001b[1;32m---> <a href='vscode-notebook-cell:Untitled-1.ipynb?jupyter-notebook#W4sdW50aXRsZWQ%3D?line=13'>14</a>\u001b[0m hg \u001b[39m=\u001b[39m dgl\u001b[39m.\u001b[39;49mto_homogeneous(g, edata\u001b[39m=\u001b[39;49m[\u001b[39m'\u001b[39;49m\u001b[39mhe\u001b[39;49m\u001b[39m'\u001b[39;49m])\n\u001b[0;32m     <a href='vscode-notebook-cell:Untitled-1.ipynb?jupyter-notebook#W4sdW50aXRsZWQ%3D?line=14'>15</a>\u001b[0m \u001b[39m# Copy node features\u001b[39;00m\n\u001b[0;32m     <a href='vscode-notebook-cell:Untitled-1.ipynb?jupyter-notebook#W4sdW50aXRsZWQ%3D?line=15'>16</a>\u001b[0m hg \u001b[39m=\u001b[39m dgl\u001b[39m.\u001b[39mto_homogeneous(g, ndata\u001b[39m=\u001b[39m[\u001b[39m'\u001b[39m\u001b[39mhv\u001b[39m\u001b[39m'\u001b[39m])\n",
      "File \u001b[1;32mc:\\Users\\yang.yoonjeong\\anaconda3\\envs\\torch\\lib\\site-packages\\dgl\\convert.py:977\u001b[0m, in \u001b[0;36mto_homogeneous\u001b[1;34m(G, ndata, edata, store_type, return_count)\u001b[0m\n\u001b[0;32m    975\u001b[0m     edata \u001b[39m=\u001b[39m []\n\u001b[0;32m    976\u001b[0m comb_nf \u001b[39m=\u001b[39m combine_frames(G\u001b[39m.\u001b[39m_node_frames, \u001b[39mrange\u001b[39m(\u001b[39mlen\u001b[39m(G\u001b[39m.\u001b[39mntypes)), col_names\u001b[39m=\u001b[39mndata)\n\u001b[1;32m--> 977\u001b[0m comb_ef \u001b[39m=\u001b[39m combine_frames(G\u001b[39m.\u001b[39;49m_edge_frames, \u001b[39mrange\u001b[39;49m(\u001b[39mlen\u001b[39;49m(G\u001b[39m.\u001b[39;49metypes)), col_names\u001b[39m=\u001b[39;49medata)\n\u001b[0;32m    978\u001b[0m \u001b[39mif\u001b[39;00m comb_nf \u001b[39mis\u001b[39;00m \u001b[39mnot\u001b[39;00m \u001b[39mNone\u001b[39;00m:\n\u001b[0;32m    979\u001b[0m     retg\u001b[39m.\u001b[39mndata\u001b[39m.\u001b[39mupdate(comb_nf)\n",
      "File \u001b[1;32mc:\\Users\\yang.yoonjeong\\anaconda3\\envs\\torch\\lib\\site-packages\\dgl\\heterograph.py:6361\u001b[0m, in \u001b[0;36mcombine_frames\u001b[1;34m(frames, ids, col_names)\u001b[0m\n\u001b[0;32m   6359\u001b[0m \u001b[39mif\u001b[39;00m key \u001b[39min\u001b[39;00m frame\u001b[39m.\u001b[39mschemes:\n\u001b[0;32m   6360\u001b[0m     \u001b[39mif\u001b[39;00m frame\u001b[39m.\u001b[39mschemes[key] \u001b[39m!=\u001b[39m scheme:\n\u001b[1;32m-> 6361\u001b[0m         \u001b[39mraise\u001b[39;00m DGLError(\u001b[39m'\u001b[39m\u001b[39mCannot concatenate column \u001b[39m\u001b[39m%s\u001b[39;00m\u001b[39m with shape \u001b[39m\u001b[39m%s\u001b[39;00m\u001b[39m and shape \u001b[39m\u001b[39m%s\u001b[39;00m\u001b[39m'\u001b[39m \u001b[39m%\u001b[39m\n\u001b[0;32m   6362\u001b[0m                        (key, frame\u001b[39m.\u001b[39mschemes[key], scheme))\n\u001b[0;32m   6363\u001b[0m \u001b[39melse\u001b[39;00m:\n\u001b[0;32m   6364\u001b[0m     \u001b[39mdel\u001b[39;00m schemes[key]\n",
      "\u001b[1;31mDGLError\u001b[0m: Cannot concatenate column he with shape Scheme(shape=(2,), dtype=torch.float32) and shape Scheme(shape=(1,), dtype=torch.float32)"
     ]
    }
   ],
   "source": [
    "g = dgl.heterograph({\n",
    "   ('drug', 'interacts', 'drug'): (th.tensor([0, 1]), th.tensor([1, 2])),\n",
    "   ('drug', 'treats', 'disease'): (th.tensor([1]), th.tensor([2]))})\n",
    "g.nodes['drug'].data['hv'] = th.zeros(3, 1)\n",
    "g.nodes['disease'].data['hv'] = th.ones(3, 1)\n",
    "g.edges['interacts'].data['he'] = th.zeros(2, 1)\n",
    "g.edges['treats'].data['he'] = th.zeros(1, 2)\n",
    "# By default, it does not merge any features\n",
    "hg = dgl.to_homogeneous(g)\n",
    "'hv' in hg.ndata\n",
    "# Copy edge features\n",
    "# For feature copy, it expects features to have\n",
    "# the same size and dtype across node/edge types\n",
    "hg = dgl.to_homogeneous(g, edata=['he'])\n",
    "# Copy node features\n",
    "hg = dgl.to_homogeneous(g, ndata=['hv'])\n",
    "hg.ndata['hv']"
   ]
  },
  {
   "cell_type": "markdown",
   "metadata": {},
   "source": [
    "원래의 노드/에지 타입과 타입별 ID들은 ndata 와 edata 에 저장"
   ]
  },
  {
   "cell_type": "code",
   "execution_count": 19,
   "metadata": {},
   "outputs": [
    {
     "data": {
      "text/plain": [
       "tensor([0, 1, 0])"
      ]
     },
     "execution_count": 19,
     "metadata": {},
     "output_type": "execute_result"
    }
   ],
   "source": [
    "# Order of node types in the heterograph\n",
    "g.ntypes\n",
    "# Original node types\n",
    "hg.ndata[dgl.NTYPE]\n",
    "# Original type-specific node IDs\n",
    "hg.ndata[dgl.NID]\n",
    "# Order of edge types in the heterograph\n",
    "g.etypes\n",
    "# Original edge types\n",
    "hg.edata[dgl.ETYPE]\n",
    "# Original type-specific edge IDs\n",
    "hg.edata[dgl.EID]"
   ]
  },
  {
   "cell_type": "markdown",
   "metadata": {},
   "source": [
    "##### 모델링 목적으로, 특정 관계들을 모아서 그룹으로 만들고, 그것들에 같은 연산을 적용하고 싶은 경우\n",
    "1. 이종 그래프의 에지 타입 서브그래프를 추출\n",
    "2. 그 서브그래프를 동종 그래프로 변환"
   ]
  },
  {
   "cell_type": "code",
   "execution_count": 20,
   "metadata": {},
   "outputs": [
    {
     "data": {
      "text/plain": [
       "Graph(num_nodes=7, num_edges=4,\n",
       "      ndata_schemes={'_ID': Scheme(shape=(), dtype=torch.int64), '_TYPE': Scheme(shape=(), dtype=torch.int64)}\n",
       "      edata_schemes={'_ID': Scheme(shape=(), dtype=torch.int64), '_TYPE': Scheme(shape=(), dtype=torch.int64)})"
      ]
     },
     "execution_count": 20,
     "metadata": {},
     "output_type": "execute_result"
    }
   ],
   "source": [
    "g = dgl.heterograph({\n",
    "   ('drug', 'interacts', 'drug'): (th.tensor([0, 1]), th.tensor([1, 2])),\n",
    "   ('drug', 'interacts', 'gene'): (th.tensor([0, 1]), th.tensor([2, 3])),\n",
    "   ('drug', 'treats', 'disease'): (th.tensor([1]), th.tensor([2]))\n",
    "})\n",
    "sub_g = dgl.edge_type_subgraph(g, [('drug', 'interacts', 'drug'),\n",
    "                                   ('drug', 'interacts', 'gene')])\n",
    "h_sub_g = dgl.to_homogeneous(sub_g)\n",
    "h_sub_g"
   ]
  },
  {
   "cell_type": "markdown",
   "metadata": {},
   "source": [
    "## 1.6 GPU에서 DGLGraph 사용하기\n",
    "그래프 생성시, 두 GPU 텐서를 전달해서 GPU에 위치한 `DGLGraph` 를 만들 수 있다. 다른 방법으로는 `to()` API를 사용해서 `DGLGraph` 를 GPU로 복사할 수 있다. 이는 그래프 구조와 피처 데이터를 함께 복사한다."
   ]
  },
  {
   "cell_type": "code",
   "execution_count": 1,
   "metadata": {},
   "outputs": [
    {
     "name": "stderr",
     "output_type": "stream",
     "text": [
      "c:\\Users\\yang.yoonjeong\\anaconda3\\envs\\torch\\lib\\site-packages\\tqdm\\auto.py:22: TqdmWarning: IProgress not found. Please update jupyter and ipywidgets. See https://ipywidgets.readthedocs.io/en/stable/user_install.html\n",
      "  from .autonotebook import tqdm as notebook_tqdm\n"
     ]
    },
    {
     "ename": "DGLError",
     "evalue": "[14:17:30] C:\\Users\\Administrator\\dgl-0.5\\src\\runtime\\c_runtime_api.cc:88: Check failed: allow_missing: Device API gpu is not enabled. Please install the cuda version of dgl.",
     "output_type": "error",
     "traceback": [
      "\u001b[1;31m---------------------------------------------------------------------------\u001b[0m",
      "\u001b[1;31mDGLError\u001b[0m                                  Traceback (most recent call last)",
      "\u001b[1;32mc:\\Users\\yang.yoonjeong\\Desktop\\geom-ex\\DGL\\1-5-gnn-training.ipynb 셀 19\u001b[0m in \u001b[0;36m<cell line: 7>\u001b[1;34m()\u001b[0m\n\u001b[0;32m      <a href='vscode-notebook-cell:/c%3A/Users/yang.yoonjeong/Desktop/geom-ex/DGL/1-5-gnn-training.ipynb#X26sZmlsZQ%3D%3D?line=4'>5</a>\u001b[0m g\u001b[39m.\u001b[39mndata[\u001b[39m'\u001b[39m\u001b[39mx\u001b[39m\u001b[39m'\u001b[39m] \u001b[39m=\u001b[39m th\u001b[39m.\u001b[39mrandn(\u001b[39m5\u001b[39m, \u001b[39m3\u001b[39m)  \u001b[39m# original feature is on CPU\u001b[39;00m\n\u001b[0;32m      <a href='vscode-notebook-cell:/c%3A/Users/yang.yoonjeong/Desktop/geom-ex/DGL/1-5-gnn-training.ipynb#X26sZmlsZQ%3D%3D?line=5'>6</a>\u001b[0m g\u001b[39m.\u001b[39mdevice\n\u001b[1;32m----> <a href='vscode-notebook-cell:/c%3A/Users/yang.yoonjeong/Desktop/geom-ex/DGL/1-5-gnn-training.ipynb#X26sZmlsZQ%3D%3D?line=6'>7</a>\u001b[0m cuda_g \u001b[39m=\u001b[39m g\u001b[39m.\u001b[39;49mto(\u001b[39m'\u001b[39;49m\u001b[39mcuda:0\u001b[39;49m\u001b[39m'\u001b[39;49m)  \u001b[39m# accepts any device objects from backend framework\u001b[39;00m\n\u001b[0;32m      <a href='vscode-notebook-cell:/c%3A/Users/yang.yoonjeong/Desktop/geom-ex/DGL/1-5-gnn-training.ipynb#X26sZmlsZQ%3D%3D?line=7'>8</a>\u001b[0m cuda_g\u001b[39m.\u001b[39mdevice\n\u001b[0;32m      <a href='vscode-notebook-cell:/c%3A/Users/yang.yoonjeong/Desktop/geom-ex/DGL/1-5-gnn-training.ipynb#X26sZmlsZQ%3D%3D?line=8'>9</a>\u001b[0m cuda_g\u001b[39m.\u001b[39mndata[\u001b[39m'\u001b[39m\u001b[39mx\u001b[39m\u001b[39m'\u001b[39m]\u001b[39m.\u001b[39mdevice       \u001b[39m# feature data is copied to GPU too\u001b[39;00m\n",
      "File \u001b[1;32mc:\\Users\\yang.yoonjeong\\anaconda3\\envs\\torch\\lib\\site-packages\\dgl\\heterograph.py:5448\u001b[0m, in \u001b[0;36mDGLHeteroGraph.to\u001b[1;34m(self, device, **kwargs)\u001b[0m\n\u001b[0;32m   5445\u001b[0m ret \u001b[39m=\u001b[39m copy\u001b[39m.\u001b[39mcopy(\u001b[39mself\u001b[39m)\n\u001b[0;32m   5447\u001b[0m \u001b[39m# 1. Copy graph structure\u001b[39;00m\n\u001b[1;32m-> 5448\u001b[0m ret\u001b[39m.\u001b[39m_graph \u001b[39m=\u001b[39m \u001b[39mself\u001b[39;49m\u001b[39m.\u001b[39;49m_graph\u001b[39m.\u001b[39;49mcopy_to(utils\u001b[39m.\u001b[39;49mto_dgl_context(device))\n\u001b[0;32m   5450\u001b[0m \u001b[39m# 2. Copy features\u001b[39;00m\n\u001b[0;32m   5451\u001b[0m \u001b[39m# TODO(minjie): handle initializer\u001b[39;00m\n\u001b[0;32m   5452\u001b[0m new_nframes \u001b[39m=\u001b[39m []\n",
      "File \u001b[1;32mc:\\Users\\yang.yoonjeong\\anaconda3\\envs\\torch\\lib\\site-packages\\dgl\\heterograph_index.py:237\u001b[0m, in \u001b[0;36mHeteroGraphIndex.copy_to\u001b[1;34m(self, ctx)\u001b[0m\n\u001b[0;32m    222\u001b[0m \u001b[39mdef\u001b[39;00m \u001b[39mcopy_to\u001b[39m(\u001b[39mself\u001b[39m, ctx):\n\u001b[0;32m    223\u001b[0m     \u001b[39m\"\"\"Copy this immutable graph index to the given device context.\u001b[39;00m\n\u001b[0;32m    224\u001b[0m \n\u001b[0;32m    225\u001b[0m \u001b[39m    NOTE: this method only works for immutable graph index\u001b[39;00m\n\u001b[1;32m   (...)\u001b[0m\n\u001b[0;32m    235\u001b[0m \u001b[39m        The graph index on the given device context.\u001b[39;00m\n\u001b[0;32m    236\u001b[0m \u001b[39m    \"\"\"\u001b[39;00m\n\u001b[1;32m--> 237\u001b[0m     \u001b[39mreturn\u001b[39;00m _CAPI_DGLHeteroCopyTo(\u001b[39mself\u001b[39;49m, ctx\u001b[39m.\u001b[39;49mdevice_type, ctx\u001b[39m.\u001b[39;49mdevice_id)\n",
      "File \u001b[1;32mc:\\Users\\yang.yoonjeong\\anaconda3\\envs\\torch\\lib\\site-packages\\dgl\\_ffi\\_ctypes\\function.py:188\u001b[0m, in \u001b[0;36mFunctionBase.__call__\u001b[1;34m(self, *args)\u001b[0m\n\u001b[0;32m    186\u001b[0m ret_val \u001b[39m=\u001b[39m DGLValue()\n\u001b[0;32m    187\u001b[0m ret_tcode \u001b[39m=\u001b[39m ctypes\u001b[39m.\u001b[39mc_int()\n\u001b[1;32m--> 188\u001b[0m check_call(_LIB\u001b[39m.\u001b[39;49mDGLFuncCall(\n\u001b[0;32m    189\u001b[0m     \u001b[39mself\u001b[39;49m\u001b[39m.\u001b[39;49mhandle, values, tcodes, ctypes\u001b[39m.\u001b[39;49mc_int(num_args),\n\u001b[0;32m    190\u001b[0m     ctypes\u001b[39m.\u001b[39;49mbyref(ret_val), ctypes\u001b[39m.\u001b[39;49mbyref(ret_tcode)))\n\u001b[0;32m    191\u001b[0m _ \u001b[39m=\u001b[39m temp_args\n\u001b[0;32m    192\u001b[0m _ \u001b[39m=\u001b[39m args\n",
      "File \u001b[1;32mc:\\Users\\yang.yoonjeong\\anaconda3\\envs\\torch\\lib\\site-packages\\dgl\\_ffi\\base.py:65\u001b[0m, in \u001b[0;36mcheck_call\u001b[1;34m(ret)\u001b[0m\n\u001b[0;32m     54\u001b[0m \u001b[39m\"\"\"Check the return value of C API call\u001b[39;00m\n\u001b[0;32m     55\u001b[0m \n\u001b[0;32m     56\u001b[0m \u001b[39mThis function will raise exception when error occurs.\u001b[39;00m\n\u001b[1;32m   (...)\u001b[0m\n\u001b[0;32m     62\u001b[0m \u001b[39m    return value from API calls\u001b[39;00m\n\u001b[0;32m     63\u001b[0m \u001b[39m\"\"\"\u001b[39;00m\n\u001b[0;32m     64\u001b[0m \u001b[39mif\u001b[39;00m ret \u001b[39m!=\u001b[39m \u001b[39m0\u001b[39m:\n\u001b[1;32m---> 65\u001b[0m     \u001b[39mraise\u001b[39;00m DGLError(py_str(_LIB\u001b[39m.\u001b[39mDGLGetLastError()))\n",
      "\u001b[1;31mDGLError\u001b[0m: [14:17:30] C:\\Users\\Administrator\\dgl-0.5\\src\\runtime\\c_runtime_api.cc:88: Check failed: allow_missing: Device API gpu is not enabled. Please install the cuda version of dgl."
     ]
    }
   ],
   "source": [
    "import dgl\n",
    "import torch as th\n",
    "u, v = th.tensor([0, 1, 2]), th.tensor([2, 3, 4])\n",
    "g = dgl.graph((u, v))\n",
    "g.ndata['x'] = th.randn(5, 3)  # original feature is on CPU\n",
    "g.device\n",
    "cuda_g = g.to('cuda:0')  # accepts any device objects from backend framework\n",
    "cuda_g.device\n",
    "cuda_g.ndata['x'].device       # feature data is copied to GPU too\n",
    "# A graph constructed from GPU tensors is also on GPU\n",
    "u, v = u.to('cuda:0'), v.to('cuda:0')\n",
    "g = dgl.graph((u, v))\n",
    "g.device"
   ]
  },
  {
   "cell_type": "markdown",
   "metadata": {},
   "source": [
    "``````\n",
    "For any future person coming here with the same problem (uninstalling DLG and still finding the package to be available) just print its path:\n",
    "\n",
    "python3 -c 'import dgl; print(dgl.__path__)'\n",
    "\n",
    "and remove it.\n",
    "``````"
   ]
  },
  {
   "cell_type": "markdown",
   "metadata": {},
   "source": [
    "GPU 그래프에 대한 모든 연산은 GPU에서 수행된다. 따라서, 모든 텐서 인자들이 GPU에 이미 존재해야하며, 연산 결과(그래프 또는 텐서) 역시 GPU에 저장된다. 더 나아가, GPU 그래프는 GPU에 있는 피쳐 데이터만 받아들인다."
   ]
  },
  {
   "cell_type": "code",
   "execution_count": 2,
   "metadata": {},
   "outputs": [
    {
     "ename": "NameError",
     "evalue": "name 'cuda_g' is not defined",
     "output_type": "error",
     "traceback": [
      "\u001b[1;31m---------------------------------------------------------------------------\u001b[0m",
      "\u001b[1;31mNameError\u001b[0m                                 Traceback (most recent call last)",
      "\u001b[1;32mc:\\Users\\yang.yoonjeong\\Desktop\\geom-ex\\DGL\\1-5-gnn-training.ipynb 셀 21\u001b[0m in \u001b[0;36m<cell line: 1>\u001b[1;34m()\u001b[0m\n\u001b[1;32m----> <a href='vscode-notebook-cell:/c%3A/Users/yang.yoonjeong/Desktop/geom-ex/DGL/1-5-gnn-training.ipynb#X25sZmlsZQ%3D%3D?line=0'>1</a>\u001b[0m cuda_g\u001b[39m.\u001b[39min_degrees()\n\u001b[0;32m      <a href='vscode-notebook-cell:/c%3A/Users/yang.yoonjeong/Desktop/geom-ex/DGL/1-5-gnn-training.ipynb#X25sZmlsZQ%3D%3D?line=1'>2</a>\u001b[0m cuda_g\u001b[39m.\u001b[39min_edges([\u001b[39m2\u001b[39m, \u001b[39m3\u001b[39m, \u001b[39m4\u001b[39m])   \u001b[39m# ok for non-tensor type arguments\u001b[39;00m\n\u001b[0;32m      <a href='vscode-notebook-cell:/c%3A/Users/yang.yoonjeong/Desktop/geom-ex/DGL/1-5-gnn-training.ipynb#X25sZmlsZQ%3D%3D?line=2'>3</a>\u001b[0m cuda_g\u001b[39m.\u001b[39min_edges(th\u001b[39m.\u001b[39mtensor([\u001b[39m2\u001b[39m, \u001b[39m3\u001b[39m, \u001b[39m4\u001b[39m])\u001b[39m.\u001b[39mto(\u001b[39m'\u001b[39m\u001b[39mcuda:0\u001b[39m\u001b[39m'\u001b[39m))  \u001b[39m# tensor type must be on GPU\u001b[39;00m\n",
      "\u001b[1;31mNameError\u001b[0m: name 'cuda_g' is not defined"
     ]
    }
   ],
   "source": [
    "cuda_g.in_degrees()\n",
    "cuda_g.in_edges([2, 3, 4])   # ok for non-tensor type arguments\n",
    "cuda_g.in_edges(th.tensor([2, 3, 4]).to('cuda:0'))  # tensor type must be on GPU\n",
    "cuda_g.ndata['h'] = th.randn(5, 4)  # ERROR! feature must be on GPU too!"
   ]
  }
 ],
 "metadata": {
  "kernelspec": {
   "display_name": "Python 3.10.6 ('torch')",
   "language": "python",
   "name": "python3"
  },
  "language_info": {
   "codemirror_mode": {
    "name": "ipython",
    "version": 3
   },
   "file_extension": ".py",
   "mimetype": "text/x-python",
   "name": "python",
   "nbconvert_exporter": "python",
   "pygments_lexer": "ipython3",
   "version": "3.10.6"
  },
  "orig_nbformat": 4,
  "vscode": {
   "interpreter": {
    "hash": "fec2c05703d0080e6fd294faeab87a4e3eaf52cde4adf51bddbbb91aae929392"
   }
  }
 },
 "nbformat": 4,
 "nbformat_minor": 2
}
